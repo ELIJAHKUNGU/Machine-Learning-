{
 "cells": [
  {
   "cell_type": "markdown",
   "metadata": {},
   "source": [
    "The Following can be done to Fine Tune The model you have trained"
   ]
  },
  {
   "cell_type": "markdown",
   "metadata": {},
   "source": [
    "# Grid Search"
   ]
  },
  {
   "cell_type": "code",
   "execution_count": null,
   "metadata": {},
   "outputs": [],
   "source": [
    "#One way to do that would be to fiddle with the hyperparameters\tmanually, until you find a great combination of hyperparameter values\n",
    "from sklearn.model_selection import GridSearchCV\n",
    "param_grid = [\n",
    "    {'n_estimators':[3,10,30],\n",
    "    'max_features':[2,4,6,8]},\n",
    "    {'bootsrap':[False],\n",
    "    'n_estimators':[3,10],\n",
    "    'max_feature':[2,3,4]}\n",
    "]\n",
    "forest_reg = RandomForestRegressor()\n",
    "grid_search = GridSearchCV(forest_reg,param_grid,cv=5,\n",
    "                          scoring='neg_mean_squared_error')\n",
    "grid_search.fit(housing_prepared,housing_labels)"
   ]
  },
  {
   "cell_type": "code",
   "execution_count": null,
   "metadata": {},
   "outputs": [],
   "source": [
    "#You can also get the best estimator directly:\n",
    "grid_search.best_estimator_ RandomForestRegressor(bootstrap=True,criterion='mse',max_depth=None,\n",
    "                                                      max_features=8,max_leaf_nodes=None, min_impurity_split=1e-07,\n",
    "                                                      min_samples_leaf=1,min_samples_split=2,\n",
    "                                                      min_weight_fraction_leaf=0.0,n_estimators=30,n_jobs=1,\n",
    "                                                      oob_score=False,random_state=42,verbose=0,warm_start=False)"
   ]
  },
  {
   "cell_type": "markdown",
   "metadata": {},
   "source": [
    "✔✔✔✔NOTE✔✔✔✔\n",
    "GridSearchCV\tis\tinitialized\twith\trefit=True\t(which\tis\tthe\tdefault),\tthen\tonce\tit\tfinds\tthe\tbest\testimator\tusing\tcross-validation,\tit retrains\tit\ton\tthe\twhole\ttraining\tset.\tThis\tis\tusually\ta\tgood\tidea\tsince\tfeeding\tit\tmore\tdata\twill\tlikely\timprove\tits\tperformance"
   ]
  },
  {
   "cell_type": "markdown",
   "metadata": {},
   "source": [
    "# Randomized Search"
   ]
  },
  {
   "cell_type": "markdown",
   "metadata": {},
   "source": [
    "when the\thyperparameter\tsearch\tspace\tis\tlarge,\tit\tis\toften\tpreferable\tto\tuse RandomizedSearchCV\t"
   ]
  },
  {
   "cell_type": "markdown",
   "metadata": {},
   "source": [
    "# Ensemble Methods"
   ]
  },
  {
   "cell_type": "markdown",
   "metadata": {},
   "source": [
    " try to combine\tthe\tmodels that perform\tbest"
   ]
  },
  {
   "cell_type": "code",
   "execution_count": null,
   "metadata": {},
   "outputs": [],
   "source": []
  }
 ],
 "metadata": {
  "kernelspec": {
   "display_name": "Python 3",
   "language": "python",
   "name": "python3"
  },
  "language_info": {
   "codemirror_mode": {
    "name": "ipython",
    "version": 3
   },
   "file_extension": ".py",
   "mimetype": "text/x-python",
   "name": "python",
   "nbconvert_exporter": "python",
   "pygments_lexer": "ipython3",
   "version": "3.7.4"
  }
 },
 "nbformat": 4,
 "nbformat_minor": 2
}
