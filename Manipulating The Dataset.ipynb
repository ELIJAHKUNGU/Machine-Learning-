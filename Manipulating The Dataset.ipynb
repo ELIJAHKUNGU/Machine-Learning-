{
 "cells": [
  {
   "cell_type": "markdown",
   "metadata": {},
   "source": [
    "# Manipulating Dataset"
   ]
  },
  {
   "cell_type": "code",
   "execution_count": null,
   "metadata": {},
   "outputs": [],
   "source": [
    "#indexing by postion\n",
    "\n",
    "#View one Column and  5 rows\n",
    "dataset.iloc[:,4]"
   ]
  },
  {
   "cell_type": "code",
   "execution_count": null,
   "metadata": {},
   "outputs": [],
   "source": [
    "#first Five records of the column\n",
    "#start:end:column No\n",
    "dataset.iloc[0:5,4]"
   ]
  },
  {
   "cell_type": "code",
   "execution_count": null,
   "metadata": {},
   "outputs": [],
   "source": [
    "#All the dataset\n",
    "dataset.iloc[:,:]"
   ]
  },
  {
   "cell_type": "code",
   "execution_count": null,
   "metadata": {},
   "outputs": [],
   "source": [
    "#for attribute from first column \n",
    "dataset.iloc[:,1:]"
   ]
  },
  {
   "cell_type": "code",
   "execution_count": null,
   "metadata": {},
   "outputs": [],
   "source": [
    "#for attribute from column see all records from index 6\n",
    "dataset.iloc[6:,4:]"
   ]
  },
  {
   "cell_type": "markdown",
   "metadata": {},
   "source": [
    "# Indexing by Label"
   ]
  },
  {
   "cell_type": "code",
   "execution_count": null,
   "metadata": {},
   "outputs": [],
   "source": [
    "#using the column name\n",
    "dataset.loc[:,'Name']"
   ]
  },
  {
   "cell_type": "code",
   "execution_count": null,
   "metadata": {},
   "outputs": [],
   "source": [
    "#display the records from index 0 to index 6 from a column\n",
    "dataset.loc[:6 , \"Name\"]"
   ]
  },
  {
   "cell_type": "code",
   "execution_count": null,
   "metadata": {},
   "outputs": [],
   "source": [
    "#see the first 7 records from column to column\n",
    "dataset.loc[:6,\"name\":\"Name\"]"
   ]
  },
  {
   "cell_type": "markdown",
   "metadata": {},
   "source": [
    "# setting The Value"
   ]
  },
  {
   "cell_type": "code",
   "execution_count": null,
   "metadata": {},
   "outputs": [],
   "source": [
    "#uses panda to perform the operation\n",
    "#A column[] = value\n",
    "dataset ['Name'] = 1\n",
    "#show the effect\n",
    "dataset\n"
   ]
  },
  {
   "cell_type": "markdown",
   "metadata": {},
   "source": [
    "# Applying a Function"
   ]
  },
  {
   "cell_type": "code",
   "execution_count": null,
   "metadata": {},
   "outputs": [],
   "source": [
    "#double up records in 'am' using Lambda FXN\n",
    "f = lambda x: x:2\n",
    "dataset ['Name'] = dataset['Name'].apply(f)\n",
    "#show the effect\n",
    "dataset"
   ]
  },
  {
   "cell_type": "markdown",
   "metadata": {},
   "source": [
    "# Sorting"
   ]
  },
  {
   "cell_type": "code",
   "execution_count": null,
   "metadata": {},
   "outputs": [],
   "source": [
    "#sorting  column Name ascending order\n",
    "dataset.sort_values(by = 'Name')"
   ]
  },
  {
   "cell_type": "code",
   "execution_count": null,
   "metadata": {},
   "outputs": [],
   "source": [
    "#sorting  column Name ascending order\n",
    "dataset.sort_values(by = 'Namnd'  , ascending = False)"
   ]
  },
  {
   "cell_type": "markdown",
   "metadata": {},
   "source": [
    "# Filtering"
   ]
  },
  {
   "cell_type": "code",
   "execution_count": null,
   "metadata": {},
   "outputs": [],
   "source": [
    "#filter the records with certain (more than 6) in the column Name\n",
    "#it only show data of the spefic column\n",
    "dataset['Name'] > 6"
   ]
  },
  {
   "cell_type": "code",
   "execution_count": null,
   "metadata": {},
   "outputs": [],
   "source": [
    "#filter records with more than 6 \n",
    "filter1 = dataset['Name'] > 6\n",
    "\n",
    "#apply filter to the DataFrame\n",
    "filtered_new = dataset[filter1]\n",
    "\n",
    "#View filtered DataFrame\n",
    "filtered_new"
   ]
  },
  {
   "cell_type": "code",
   "execution_count": null,
   "metadata": {},
   "outputs": [],
   "source": [
    "#filter records of column1 with more than 6 and Column2 more than 300\n",
    "filter2 = (dataset['Col1'] > 6) & (dataset['col2']> 300)\n",
    "#apply the filter to DataFrame\n",
    "filtered_review = dataset[filter2]\n",
    "\n",
    "#display filtere\n"
   ]
  }
 ],
 "metadata": {
  "kernelspec": {
   "display_name": "Python 3",
   "language": "python",
   "name": "python3"
  },
  "language_info": {
   "codemirror_mode": {
    "name": "ipython",
    "version": 3
   },
   "file_extension": ".py",
   "mimetype": "text/x-python",
   "name": "python",
   "nbconvert_exporter": "python",
   "pygments_lexer": "ipython3",
   "version": "3.7.4"
  }
 },
 "nbformat": 4,
 "nbformat_minor": 2
}
