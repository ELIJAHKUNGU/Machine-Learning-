{
 "cells": [
  {
   "cell_type": "markdown",
   "metadata": {},
   "source": [
    "# Linear Regression"
   ]
  },
  {
   "cell_type": "code",
   "execution_count": 1,
   "metadata": {},
   "outputs": [
    {
     "ename": "SyntaxError",
     "evalue": "invalid syntax (<ipython-input-1-9be02b6a0572>, line 3)",
     "output_type": "error",
     "traceback": [
      "\u001b[1;36m  File \u001b[1;32m\"<ipython-input-1-9be02b6a0572>\"\u001b[1;36m, line \u001b[1;32m3\u001b[0m\n\u001b[1;33m    import pandas pd\u001b[0m\n\u001b[1;37m                   ^\u001b[0m\n\u001b[1;31mSyntaxError\u001b[0m\u001b[1;31m:\u001b[0m invalid syntax\n"
     ]
    }
   ],
   "source": [
    "%metaplotlib inline \n",
    "import numpy as np\n",
    "import pandas pd\n",
    "import matplotlib.pyplot as plot\n",
    "plt.rtParams['figure.figsize']=(20.0 , 10.0)"
   ]
  },
  {
   "cell_type": "markdown",
   "metadata": {},
   "source": [
    "Reading Data"
   ]
  },
  {
   "cell_type": "code",
   "execution_count": null,
   "metadata": {},
   "outputs": [],
   "source": [
    "data = pd.read_csv('headbrain.csv')\n",
    "print(data.shape)\n",
    "data.head()"
   ]
  },
  {
   "cell_type": "code",
   "execution_count": null,
   "metadata": {},
   "outputs": [],
   "source": [
    "#collecting x and y \n",
    "X = data['Head size(cm^3)'].values\n",
    "Y = data['brain weight (grams)'].values"
   ]
  },
  {
   "cell_type": "code",
   "execution_count": null,
   "metadata": {},
   "outputs": [],
   "source": [
    "#mean x and y\n",
    "mean_x = np.mean(X)\n",
    "mean_y = np.mean(Y)\n",
    "\n",
    "#Total number of values\n",
    "n = len(X)\n",
    "\n",
    "#using the formula to calculate b1 and b0\n",
    "numer =  0\n",
    "denom = 0\n",
    "\n",
    "for i in range(m):\n",
    "    numer+-(X[i]-mean_x) * (Y[i]-mean_y)\n",
    "    denom +=(X[i]- mean_x)**2\n",
    "b1 = numer /denom\n",
    "b0 = mean_y -(b1 * mean_x)\n",
    "\n",
    "#print the coefficients\n",
    "print(b1, b0)"
   ]
  },
  {
   "cell_type": "code",
   "execution_count": null,
   "metadata": {},
   "outputs": [],
   "source": [
    "#plotting values and Regression\n",
    "max_x = np.max(X)+100\n",
    "min_x = np.min(X)-100\n",
    "\n",
    "#calculating line values x and y\n",
    "x = np.linspace(min_x , max_x, 1000)\n",
    "\n",
    "#plotting line \n",
    "plt.plot(x,y, color = '#58b970', label='Regression Line')\n",
    "#Plotting Scatter Points\n",
    "plt.scatter(X , Y, c='#ef5423', label = 'Scatter Plot')\n",
    "\n",
    "plt.xlabel('Head Size in cm3')\n",
    "plt.xlabel('Brain weight in grams')\n",
    "plt.legend()\n",
    "plt.show()\n"
   ]
  },
  {
   "cell_type": "markdown",
   "metadata": {},
   "source": [
    "# R SQUARE METHOD"
   ]
  },
  {
   "cell_type": "markdown",
   "metadata": {},
   "source": [
    "check the correctness of our best fit line"
   ]
  },
  {
   "cell_type": "code",
   "execution_count": null,
   "metadata": {},
   "outputs": [],
   "source": [
    "ss_t = 0\n",
    "ss_r = 0\n",
    "for i in range (m):\n",
    "    y_pred = b0 + b1 * X[i]\n",
    "    ss_t += (Y[i] - mean_y) **2\n",
    "    ss_r += (Y[i] - y_pred) **2\n",
    "r2 = 1 - (ss_r/ss_t)\n",
    "print(r2)"
   ]
  },
  {
   "cell_type": "markdown",
   "metadata": {},
   "source": [
    "# SKLEARNING "
   ]
  },
  {
   "cell_type": "code",
   "execution_count": null,
   "metadata": {},
   "outputs": [],
   "source": [
    "from sklearn.linear_model import LinearRegression \n",
    "from sklearn.metrics import mean_squared_error\n",
    "\n",
    "#cannot use Rank 1 matrix in scikit learn \n",
    "X = X.reshape((m , 1))\n",
    "\n",
    "#creating Model\n",
    "reg = LinearRegression()\n",
    "# Fitting trainig data\n",
    "reg = reg.fit(X,Y)\n",
    "# Y prediction\n",
    "Y_pred = reg.predict(X)\n",
    "\n",
    "#Calculating RMSE AND R2 SCORE\n",
    "#mse = mean_squared_error(Y , Y_pred)\n",
    "#rmse = hp.sqrt(mse)\n",
    "\n",
    "\n",
    "#Calculating  R SCORE\n",
    "r2_score = reg.score(X,y)\n",
    "\n",
    "print(np.sqrt(mse))\n",
    "print(r2_score)"
   ]
  }
 ],
 "metadata": {
  "kernelspec": {
   "display_name": "Python 3",
   "language": "python",
   "name": "python3"
  },
  "language_info": {
   "codemirror_mode": {
    "name": "ipython",
    "version": 3
   },
   "file_extension": ".py",
   "mimetype": "text/x-python",
   "name": "python",
   "nbconvert_exporter": "python",
   "pygments_lexer": "ipython3",
   "version": "3.7.4"
  }
 },
 "nbformat": 4,
 "nbformat_minor": 2
}
