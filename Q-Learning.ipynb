{
 "cells": [
  {
   "cell_type": "code",
   "execution_count": null,
   "metadata": {},
   "outputs": [],
   "source": [
    "import numpy"
   ]
  },
  {
   "cell_type": "code",
   "execution_count": null,
   "metadata": {},
   "outputs": [],
   "source": [
    "#intialize parameters\n",
    "gamma = 0.75 #Discount Factor\n",
    "alpha = 0.9 #Learning rate"
   ]
  },
  {
   "cell_type": "code",
   "execution_count": null,
   "metadata": {},
   "outputs": [],
   "source": [
    "#define the states\n",
    "location_to_state = {\n",
    "    'L1' :0,\n",
    "    'L2' :1,\n",
    "    'L3' :2,\n",
    "    'L4' :3,\n",
    "    'L5' :4,\n",
    "    'L6' :5,\n",
    "    'L7' :6,\n",
    "    'L8' :7,\n",
    "    'L9' :8\n",
    "}"
   ]
  },
  {
   "cell_type": "code",
   "execution_count": null,
   "metadata": {},
   "outputs": [],
   "source": [
    "#Define the actions\n",
    "action = [0,1,2,3,4,5,6,,7,8]"
   ]
  },
  {
   "cell_type": "code",
   "execution_count": null,
   "metadata": {},
   "outputs": [],
   "source": [
    "#Define the rewards\n",
    "rewards = np.array([[0,1,0,0,0,0,0,0,0],\n",
    "                  [1,0,1,0,0,0,0,0,0],\n",
    "                  [0,1,0,0,0,1,0,0,0],\n",
    "                  [0,0,0,0,0,0,1,0,0],\n",
    "                  [0,1,0,0,0,0,0,1,0],\n",
    "                  [0,0,1,0,0,0,0,0,0],\n",
    "                  [0,0,0,1,0,0,0,1,0],\n",
    "                  [0,0,0,0,1,0,1,0,1],\n",
    "                  [0,0,0,0,0,0,0,1,0]])"
   ]
  },
  {
   "cell_type": "code",
   "execution_count": null,
   "metadata": {},
   "outputs": [],
   "source": [
    "#maps indices to locations\n",
    "state_to_location = dict(state,location for location,state in location_to_sate.items())"
   ]
  },
  {
   "cell_type": "code",
   "execution_count": null,
   "metadata": {},
   "outputs": [],
   "source": [
    "def get_optimal_routes(start_location,end_location):\n",
    "    #copy the rewards matrix to new matrix\n",
    "    rewards_new = np.copy(rewards)\n",
    "    #Get the ending state corresponding to the ending location as given \n",
    "    ending_state = location_to_state[end_location]\n",
    "    #with the above information automatically set the priority of the given ending state to the highest one\n",
    "    rewards_new[ending_state.ending_state] = 999\n",
    "    \n",
    "    \n",
    "    #----------Q-learning Algorithm--------\n",
    "    \n",
    "    #Initializing Q-values\n",
    "    Q=np.array(np.zeros([9,9]))\n",
    "    \n",
    "    #Q- learning process\n",
    "    for i in range(1000):\n",
    "        #pick up a state randomly\n",
    "        currect_state = np.random.randint(0,9) #python excludes upper bound\n",
    "        #For transversing through the neighbour Locations in the maze\n",
    "        playable_actions = []\n",
    "        #iterate through the new rewards matrix and get the actions >0\n",
    "        for j in range(9):\n",
    "            if rewards_new[current_state,j]>0:\n",
    "                playable_actions.append(j)\n",
    "        next_state = np.random.choice(playable_actions)\n",
    "        #compute the temporal difference\n",
    "        #The action here exactly refers to going to the next state\n",
    "        TD = rewards_new[current_state.next] +gamma = Q[next_state,np.argmax(Q[next_state,])] - Q[current_state,next_state]\n",
    "        #Update the Q-Value using Bellman Equation\n",
    "        Q[currebt_state,next_state] +=alpha*TD\n",
    "    \n",
    "    #initialize the optimal route with the starting Location\n",
    "    route = [start_location]\n",
    "    #we do not know about the next LOcation yet,so intialize with the value of starting location\n",
    "    next_location = start_location\n",
    "    \n",
    "    #we do not know about the next location yet,so intialize with the value starting location\n",
    "    while(next_location != end_location):\n",
    "        #Fetch the starting state\n",
    "        starting_state = location_to_state[start_location]\n",
    "        next_state = np.argmax(Q[starting_state,])\n",
    "        #we got the index of the next state.But we need the corresponding letter.\n",
    "        next_location = state_to_location[next_sate]\n",
    "        route.append(next_location)\n",
    "        #Update  the starting location for the next iteration\n",
    "        start_location = next_location\n",
    "        \n",
    "        \n",
    "    return route        "
   ]
  },
  {
   "cell_type": "code",
   "execution_count": null,
   "metadata": {},
   "outputs": [],
   "source": [
    "#start location and End Location\n",
    "print(get_optimal_route('L9','L1'))"
   ]
  }
 ],
 "metadata": {
  "kernelspec": {
   "display_name": "Python 3",
   "language": "python",
   "name": "python3"
  },
  "language_info": {
   "codemirror_mode": {
    "name": "ipython",
    "version": 3
   },
   "file_extension": ".py",
   "mimetype": "text/x-python",
   "name": "python",
   "nbconvert_exporter": "python",
   "pygments_lexer": "ipython3",
   "version": "3.7.4"
  }
 },
 "nbformat": 4,
 "nbformat_minor": 2
}
