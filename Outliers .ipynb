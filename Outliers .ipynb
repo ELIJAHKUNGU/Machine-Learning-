{
 "cells": [
  {
   "cell_type": "markdown",
   "metadata": {},
   "source": [
    "# Dealing with outliers "
   ]
  },
  {
   "cell_type": "raw",
   "metadata": {},
   "source": [
    "# Detcing an outliers"
   ]
  },
  {
   "cell_type": "markdown",
   "metadata": {},
   "source": [
    "1. Using the Zscore\n",
    "z = (x-M)/std"
   ]
  },
  {
   "cell_type": "code",
   "execution_count": null,
   "metadata": {},
   "outputs": [],
   "source": [
    "import numpy as np\n",
    "outliers = []\n",
    "def detect_outliers(dataset):\n",
    "    threshold = 3\n",
    "    mean = np.mean(dataset)\n",
    "    std = np.std(datset)\n",
    "    \n",
    "    for i in dataset:\n",
    "        z_score = (i-mean)/std\n",
    "        if np.abs(z_score) > threshold:\n",
    "            outliers.append(i)\n",
    "    return outliers\n",
    "        "
   ]
  },
  {
   "cell_type": "code",
   "execution_count": null,
   "metadata": {},
   "outputs": [],
   "source": [
    "outlier_pt = detect_outliers(dataset)\n",
    "outlier_pt"
   ]
  },
  {
   "cell_type": "markdown",
   "metadata": {},
   "source": [
    "1. Using the Interquatile range\n",
    "Steps:\n",
    "  1.Arrange the data in increasing order\n",
    "  2.Calculate the first(q1) and third(q3)\n",
    "  3.find the interquatile range (q1-q3)\n",
    "  4.find the lower bound q1*1.5\n",
    "  5.find upper bound q3 * 1.5\n",
    "  \n",
    "  \n",
    " Anything that lies outside of lower and upper bound is an outlier"
   ]
  },
  {
   "cell_type": "code",
   "execution_count": null,
   "metadata": {},
   "outputs": [],
   "source": [
    "#To sort the dataset\n",
    "sorted(dataset)"
   ]
  },
  {
   "cell_type": "code",
   "execution_count": null,
   "metadata": {},
   "outputs": [],
   "source": [
    "#calculating the quantiles\n",
    "quantile1,quantile3 = np.percentile(dataset,[25,75])\n",
    "\n",
    "print(quantile1 ,quantile3)"
   ]
  },
  {
   "cell_type": "code",
   "execution_count": null,
   "metadata": {},
   "outputs": [],
   "source": [
    "#calculating inter quantile range\n",
    "inter_quantile_range = quantile1 - quantile3\n",
    "print(inter_quantile_range)"
   ]
  },
  {
   "cell_type": "code",
   "execution_count": null,
   "metadata": {},
   "outputs": [],
   "source": [
    "#Calculating bounds\n",
    "lower_bound_val = quantile1 - (1.5 * inter_quantile_range)\n",
    "upper_bound_val = quantile3 - (1.5 * inter_quantile_range)"
   ]
  }
 ],
 "metadata": {
  "kernelspec": {
   "display_name": "Python 3",
   "language": "python",
   "name": "python3"
  },
  "language_info": {
   "codemirror_mode": {
    "name": "ipython",
    "version": 3
   },
   "file_extension": ".py",
   "mimetype": "text/x-python",
   "name": "python",
   "nbconvert_exporter": "python",
   "pygments_lexer": "ipython3",
   "version": "3.7.4"
  }
 },
 "nbformat": 4,
 "nbformat_minor": 2
}
