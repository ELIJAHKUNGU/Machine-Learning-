{
 "cells": [
  {
   "cell_type": "code",
   "execution_count": null,
   "metadata": {},
   "outputs": [],
   "source": [
    "#print concise summary of the columns\n",
    "\n",
    "datasets.info(null_counts = True)"
   ]
  },
  {
   "cell_type": "code",
   "execution_count": null,
   "metadata": {},
   "outputs": [],
   "source": [
    "#Print the mean of each item\n",
    "#similiarly to others factors\n",
    "\n",
    "\n",
    "dataset.mean()"
   ]
  },
  {
   "cell_type": "code",
   "execution_count": null,
   "metadata": {},
   "outputs": [],
   "source": [
    "#print the following\n",
    "  #count\n",
    "  #mean\n",
    "  #std\n",
    "  #25%\n",
    "  #75%\n",
    "  #50%\n",
    "\n",
    "dataset.describe()"
   ]
  },
  {
   "cell_type": "code",
   "execution_count": null,
   "metadata": {},
   "outputs": [],
   "source": [
    "#count non_null value\n",
    "\n",
    "dataset.count()"
   ]
  },
  {
   "cell_type": "code",
   "execution_count": null,
   "metadata": {},
   "outputs": [],
   "source": [
    "#print the first data head \n",
    "#not specifield the first five\n",
    "\n",
    "dataset.head()"
   ]
  },
  {
   "cell_type": "code",
   "execution_count": null,
   "metadata": {},
   "outputs": [],
   "source": [
    "#print the last data head \n",
    "#not specifield the last five\n",
    "\n",
    "dataset.tail()"
   ]
  },
  {
   "cell_type": "code",
   "execution_count": null,
   "metadata": {},
   "outputs": [],
   "source": [
    "#Replace the nan_value with mean \n",
    "#column ---name of column u need to replace\n",
    "\n",
    "dataset.column = dataset.column.fillna(dataset.column.mean())\n",
    "#Replace the nan_value with meadian\n",
    "median = dataset[\"column\"].median()"
   ]
  },
  {
   "cell_type": "code",
   "execution_count": null,
   "metadata": {},
   "outputs": [],
   "source": [
    "#Rename a column  \n",
    "#column ---name of column u need to rename\n",
    "#column: ()index\n",
    "\n",
    "dataset= dataset.rename(column = {'unnmaed:1' : 'Model'})"
   ]
  },
  {
   "cell_type": "code",
   "execution_count": null,
   "metadata": {},
   "outputs": [],
   "source": [
    "#Mostly used drop   the data that is Nan\n",
    "\n",
    "\n",
    "dataset.dropna(inplace = True)\n"
   ]
  },
  {
   "cell_type": "code",
   "execution_count": null,
   "metadata": {},
   "outputs": [],
   "source": [
    "#Drop unwanted columns\n",
    "\n",
    "dataset.drop([\"Sex \" , \"Embarked\" , \"PassengerId\" ,\"Pclass\" \"Name\" ,\"Ticket\"] , axis=1 , inplace= True)"
   ]
  },
  {
   "cell_type": "code",
   "execution_count": null,
   "metadata": {},
   "outputs": [],
   "source": [
    "#find correlation\n",
    "\n",
    "dataset = dataset [[\"Sex \" , \"Embarked\" , \"PassengerId\" ,\"Pclass\" \"Name\" ,\"Ticket\"]].corr()\n",
    "dataset"
   ]
  },
  {
   "cell_type": "code",
   "execution_count": null,
   "metadata": {},
   "outputs": [],
   "source": [
    "#FEATURE ENGINEERING\n",
    "#To change the dataset to discrete\n",
    "\n",
    "column = pd.get_dummies(dataset['column'] , drop_first = True)\n",
    "column.head()"
   ]
  },
  {
   "cell_type": "code",
   "execution_count": null,
   "metadata": {},
   "outputs": [],
   "source": [
    "#change column from string to float\n",
    "datasets.column = datasets.column.astype(float)\n",
    "#see the change\n",
    "datasets.info(null_counts = True)"
   ]
  },
  {
   "cell_type": "code",
   "execution_count": null,
   "metadata": {},
   "outputs": [],
   "source": [
    "#plot a scatter plot\n",
    "datasets.plot(kind=\"scatter\",x=\"column on the x~axis\",y=\"column on the y~axis\")"
   ]
  },
  {
   "cell_type": "code",
   "execution_count": null,
   "metadata": {},
   "outputs": [],
   "source": [
    "#Setting the alpha option to 0.1\n",
    "#makes it much easier to visualize the places where there is a high density of data points\n",
    "housing.plot(kind=\"scatter\", x=\"longitude\", y=\"latitude\", alpha=0.1)\n"
   ]
  },
  {
   "cell_type": "code",
   "execution_count": null,
   "metadata": {},
   "outputs": [],
   "source": [
    "#Using Scikit-Learn to care of the missing values using the Imputer\n",
    "from sklearn.preprocessing import Imputer\n",
    "imputer = Imputer(strategy=\"median\")\n",
    "\n",
    "#You have to drop the non_numerical columns\n",
    "housing_num =housing.drop(\"ocean_proximity\", axis=1)\n",
    "\n",
    "imputer.fit(housing_num)"
   ]
  },
  {
   "cell_type": "markdown",
   "metadata": {},
   "source": [
    "# Handling Text and Categorical Attributes"
   ]
  },
  {
   "cell_type": "code",
   "execution_count": null,
   "metadata": {},
   "outputs": [],
   "source": [
    "from\tsklearn.preprocessing\timport\tLabelEncoder \n",
    "encoder=LabelEncoder() \n",
    "housing_cat=dataset[\"column Name\"]\n",
    "housing_cat_encoded=encoder.fit_transform(housing_cat)\n",
    "housing_cat_encoded \n",
    "\n",
    "\n",
    "\n",
    "#Output \n",
    "array([0,0,4,...,1,0,3]"
   ]
  },
  {
   "cell_type": "code",
   "execution_count": null,
   "metadata": {},
   "outputs": [],
   "source": [
    "#One issue with\tthis representation is that ML algorithms will assume that two nearby values are more similar than two distant values\n",
    "\n",
    "print(encoder.classes_)\n",
    "['<1H OCEAN','INLAND','ISLAND','NEAR\tBAY','NEAR OCEAN']"
   ]
  }
 ],
 "metadata": {
  "kernelspec": {
   "display_name": "Python 3",
   "language": "python",
   "name": "python3"
  },
  "language_info": {
   "codemirror_mode": {
    "name": "ipython",
    "version": 3
   },
   "file_extension": ".py",
   "mimetype": "text/x-python",
   "name": "python",
   "nbconvert_exporter": "python",
   "pygments_lexer": "ipython3",
   "version": "3.7.4"
  }
 },
 "nbformat": 4,
 "nbformat_minor": 2
}
